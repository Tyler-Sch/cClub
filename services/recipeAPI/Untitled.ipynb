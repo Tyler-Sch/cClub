{
 "cells": [
  {
   "cell_type": "code",
   "execution_count": 1,
   "metadata": {
    "collapsed": true
   },
   "outputs": [],
   "source": [
    "import asyncio\n",
    "import asyncpg"
   ]
  },
  {
   "cell_type": "code",
   "execution_count": 2,
   "metadata": {
    "collapsed": true
   },
   "outputs": [],
   "source": [
    "loop = asyncio.get_event_loop()"
   ]
  },
  {
   "cell_type": "code",
   "execution_count": 3,
   "metadata": {
    "collapsed": true
   },
   "outputs": [],
   "source": [
    "async def select_all(table):\n",
    "    conn = await asyncpg.connect(user='postgres', password='postgres',\n",
    "                                 port='5435',\n",
    "                                 database='recipes_test', host='localhost')\n",
    "    values = await conn.fetch(f'''SELECT * FROM {table}''')\n",
    "    await conn.close()\n",
    "    return values"
   ]
  },
  {
   "cell_type": "code",
   "execution_count": 7,
   "metadata": {},
   "outputs": [],
   "source": [
    "x = loop.create_task(select_all('ingredient_information'))"
   ]
  },
  {
   "cell_type": "code",
   "execution_count": 9,
   "metadata": {},
   "outputs": [],
   "source": [
    "q = \"\"\"\n",
    "    select * from ingredient_information ii \n",
    "    where ii.fdgroup_num = any($1)\n",
    "\"\"\""
   ]
  },
  {
   "cell_type": "code",
   "execution_count": 49,
   "metadata": {},
   "outputs": [],
   "source": [
    "async def test_array(a, amt):\n",
    "    conn = await asyncpg.connect(user='postgres', password='postgres',\n",
    "                                 port='5435',\n",
    "                                 database='recipes_test', host='localhost')\n",
    "    q = \"\"\"\n",
    "        select * from recipes r \n",
    "        where r.id not in \n",
    "        (select distinct i.recipe from ingredients i inner join ingredient_information ii\n",
    "        on (i.ingredient = ii.id)\n",
    "        where ii.fdgroup_num = any($1))\n",
    "        order by random() limit $2\n",
    "    \"\"\"\n",
    "    testing = await conn.fetch(q, a, amt)\n",
    "    await conn.close()\n",
    "    return testing\n"
   ]
  },
  {
   "cell_type": "code",
   "execution_count": 52,
   "metadata": {},
   "outputs": [],
   "source": [
    "x = loop.create_task(test_array([100,1300, 200, 1000, 1500, 1700, 500], 5))"
   ]
  },
  {
   "cell_type": "code",
   "execution_count": 53,
   "metadata": {},
   "outputs": [
    {
     "data": {
      "text/plain": [
       "[<Record id=7920 name='Shortbread Cookies Recipe' pic_url='missing' url='http://cookeatshare.com/recipes/shortbread-cookies-45823' source='cookeatshare' source_meta=None date_added=datetime.datetime(2019, 2, 7, 18, 13, 48, 421240)>,\n",
       " <Record id=10849 name='Peary Afternoon' pic_url='missing' url='http://www.food.com/recipe/peary-afternoon-391389' source='food' source_meta=None date_added=datetime.datetime(2019, 2, 7, 18, 15, 48, 764988)>,\n",
       " <Record id=12260 name='Yabbie Kabobs' pic_url='http://img.sndimg.com/food/image/upload/w_512,h_512,c_fit,fl_progressive,q_95/v1/img/recipes/15/95/1/15951.jpg' url='http://www.food.com/recipe/yabbie-kabobs-15951' source='food' source_meta=None date_added=datetime.datetime(2019, 2, 7, 18, 16, 50, 954455)>,\n",
       " <Record id=127 name='Spicy Korean Temple Noodles' pic_url='http://graphics8.nytimes.com/images/2015/03/18/dining/18PAIR/18PAIR-superJumbo.jpg' url='http://cooking.nytimes.com/recipes/1017290' source='cooking' source_meta=None date_added=datetime.datetime(2019, 2, 7, 18, 8, 11, 153130)>,\n",
       " <Record id=10207 name='Peach Pie Alaska Recipe' pic_url='missing' url='http://cookeatshare.com/recipes/peach-pie-alaska-35236' source='cookeatshare' source_meta=None date_added=datetime.datetime(2019, 2, 7, 18, 15, 22, 274291)>]"
      ]
     },
     "execution_count": 53,
     "metadata": {},
     "output_type": "execute_result"
    }
   ],
   "source": [
    "x.result()"
   ]
  },
  {
   "cell_type": "code",
   "execution_count": 48,
   "metadata": {},
   "outputs": [
    {
     "data": {
      "text/plain": [
       "[<Record id=16619 name='Melon, Mint, and Cucumber Smoothie' pic_url='http://del.h-cdn.co/assets/cm/15/10/54f662ef6bb9f_-_melon-mint-cucumber-smoothie-recipe-mslo0514-xl.jpg' url='http://www.delish.com/recipefinder/melon-mint-cucumber-smoothie-recipe-mslo0514' source='delish' source_meta=None date_added=datetime.datetime(2019, 2, 7, 18, 19, 56, 63399)>,\n",
       " <Record id=16448 name='Vickys Dairy-Free Dulce du Leche' pic_url='https://img-global.cpcdn.com/001_recipes/4996997148835840/0x0/photo.jpg' url='https://cookpad.com/us/recipes/340913-vickys-dairy-free-dulce-du-leche' source='cookpad' source_meta=None date_added=datetime.datetime(2019, 2, 7, 18, 19, 49, 69703)>,\n",
       " <Record id=16791 name=\"Jef's Shortcut Chicken Mole\" pic_url='missing' url='http://cooking.nytimes.com/recipes/11064' source='cooking' source_meta=None date_added=datetime.datetime(2019, 2, 7, 18, 20, 3, 53773)>,\n",
       " <Record id=16663 name='Peanut Butter Oreo Brownies' pic_url='https://img-global.cpcdn.com/001_recipes/5271269207441408/0x0/photo.jpg' url='https://cookpad.com/us/recipes/356068-peanut-butter-oreo-brownies' source='cookpad' source_meta=None date_added=datetime.datetime(2019, 2, 7, 18, 19, 57, 855449)>,\n",
       " <Record id=16704 name='Imperial Fizz' pic_url='missing' url='http://www.epicurious.com/recipes/food/views/imperial-fizz-200432' source='epicurious' source_meta=None date_added=datetime.datetime(2019, 2, 7, 18, 19, 59, 479390)>,\n",
       " <Record id=16766 name='Chicken Breast, Ume and Cucumber Stir Fry' pic_url='https://img-global.cpcdn.com/001_recipes/5884803267166208/0x0/photo.jpg' url='https://cookpad.com/us/recipes/156829-chicken-breast-ume-and-cucumber-stir-fry' source='cookpad' source_meta=None date_added=datetime.datetime(2019, 2, 7, 18, 20, 2, 38677)>,\n",
       " <Record id=16832 name=\"Matt's Salad\" pic_url='missing' url='http://www.food.com/recipe/matts-salad-218740' source='food' source_meta=None date_added=datetime.datetime(2019, 2, 7, 18, 20, 4, 740506)>,\n",
       " <Record id=16651 name='Hop, Skip, and Go Naked' pic_url='missing' url='http://www.food.com/recipe/hop-skip-and-go-naked-50807' source='food' source_meta=None date_added=datetime.datetime(2019, 2, 7, 18, 19, 57, 343158)>,\n",
       " <Record id=16803 name=\"Connie's Candied Cranberries\" pic_url='missing' url='http://www.food.com/recipe/connies-candied-cranberries-462501' source='food' source_meta=None date_added=datetime.datetime(2019, 2, 7, 18, 20, 3, 586707)>,\n",
       " <Record id=16831 name='Blue Banana' pic_url='missing' url='http://www.food.com/recipe/blue-banana-297526' source='food' source_meta=None date_added=datetime.datetime(2019, 2, 7, 18, 20, 4, 675907)>,\n",
       " <Record id=16701 name='Small Patty Pan Squash Recipe' pic_url='missing' url='http://cookeatshare.com/recipes/small-patty-pan-squash-21951' source='cookeatshare' source_meta=None date_added=datetime.datetime(2019, 2, 7, 18, 19, 59, 425685)>,\n",
       " <Record id=16710 name='Chinese Noodles Salad Recipe' pic_url='missing' url='http://cookeatshare.com/recipes/chinese-noodles-salad-49159' source='cookeatshare' source_meta=None date_added=datetime.datetime(2019, 2, 7, 18, 19, 59, 787519)>,\n",
       " <Record id=16720 name='Sensational, Powerful, Strawberry Protein Smoothie' pic_url='missing' url='http://www.food.com/recipe/sensational-powerful-strawberry-protein-smoothie-124090' source='food' source_meta=None date_added=datetime.datetime(2019, 2, 7, 18, 20, 0, 162508)>,\n",
       " <Record id=16744 name='Mixed Berry Bellinis' pic_url='missing' url='http://www.foodnetwork.com/recipes/paula-deen/mixed-berry-bellinis-recipe.html' source='foodnetwork' source_meta=None date_added=datetime.datetime(2019, 2, 7, 18, 20, 1, 197973)>,\n",
       " <Record id=16764 name='Bourbon-Nectarine Ice Cream Sundaes with Pound-Cake Croutons' pic_url='http://cdn-image.foodandwine.com/sites/default/files/200907-xl-bourbon-peach.jpg' url='http://www.foodandwine.com/recipes/bourbon-nectarine-ice-cream-sundaes-pound-cake-croutons' source='foodandwine' source_meta=None date_added=datetime.datetime(2019, 2, 7, 18, 20, 1, 973812)>,\n",
       " <Record id=16802 name='Raspberry Creme Fraiche Puff' pic_url='missing' url='http://www.food.com/recipe/raspberry-creme-fraiche-puff-232357' source='food' source_meta=None date_added=datetime.datetime(2019, 2, 7, 18, 20, 3, 525428)>,\n",
       " <Record id=16834 name='Low Calorie Blueberry Lemon Breeze' pic_url='missing' url='http://www.food.com/recipe/low-calorie-blueberry-lemon-breeze-423419' source='food' source_meta=None date_added=datetime.datetime(2019, 2, 7, 18, 20, 4, 851376)>,\n",
       " <Record id=16841 name='Pesto Ravioli and Peas' pic_url='http://del.h-cdn.co/assets/cm/15/10/54f6803237c24_-_pesto-ravioli-peas-0900-xlg.jpg' url='http://www.delish.com/recipefinder/pesto-ravioli-peas-1023' source='delish' source_meta=None date_added=datetime.datetime(2019, 2, 7, 18, 20, 5, 79082)>,\n",
       " <Record id=16851 name=\"Rita's Fruit Crumble\" pic_url='missing' url='http://www.food.com/recipe/ritas-fruit-crumble-485016' source='food' source_meta=None date_added=datetime.datetime(2019, 2, 7, 18, 20, 5, 497193)>,\n",
       " <Record id=16879 name='Butterscotch Candy Drops' pic_url='missing' url='http://www.food.com/recipe/butterscotch-candy-drops-13469' source='food' source_meta=None date_added=datetime.datetime(2019, 2, 7, 18, 20, 6, 716340)>,\n",
       " <Record id=16897 name='Rose Water Soda' pic_url='http://img.sndimg.com/food/image/upload/w_512,h_512,c_fit,fl_progressive,q_95/v1/img/recipes/23/29/34/pica8iFEV.jpg' url='http://www.food.com/recipe/rose-water-soda-232934' source='food' source_meta=None date_added=datetime.datetime(2019, 2, 7, 18, 20, 7, 399581)>,\n",
       " <Record id=16902 name='Cold Poached Chicken with Ginger Scallion Oil' pic_url='missing' url='http://www.foodnetwork.com/recipes/cold-poached-chicken-with-ginger-scallion-oil.html' source='foodnetwork' source_meta=None date_added=datetime.datetime(2019, 2, 7, 18, 20, 7, 600586)>,\n",
       " <Record id=16956 name='Ham and Potato Soup (No milk or cream)' pic_url='missing' url='http://www.food.com/recipe/ham-and-potato-soup-no-milk-or-cream-83348' source='food' source_meta=None date_added=datetime.datetime(2019, 2, 7, 18, 20, 9, 800267)>,\n",
       " <Record id=16976 name='Low Calorie Sparkling Orange Punch Bowl' pic_url='http://assets.kraftfoods.com/recipe_images/opendeploy/53290_640x428.jpg' url='http://www.kraftrecipes.com/recipes/low-calorie-sparkling-orange-punch-bowl-53290.aspx' source='kraftrecipes' source_meta=None date_added=datetime.datetime(2019, 2, 7, 18, 20, 10, 678262)>,\n",
       " <Record id=17007 name='Fruit Stacked English Muffins' pic_url='http://images.media-allrecipes.com/userphotos/256x256/176313.jpg' url='http://allrecipes.com/recipe/fruit-stacked-english-muffins/' source='allrecipes' source_meta=None date_added=datetime.datetime(2019, 2, 7, 18, 20, 11, 865744)>,\n",
       " <Record id=17020 name='Brazilian Limeade' pic_url='missing' url='http://www.food.com/recipe/brazilian-limeade-213533' source='food' source_meta=None date_added=datetime.datetime(2019, 2, 7, 18, 20, 12, 462578)>,\n",
       " <Record id=16881 name='Grapefruit & Yogurt Pops' pic_url='missing' url='http://www.food.com/recipe/grapefruit-yogurt-pops-302098' source='food' source_meta=None date_added=datetime.datetime(2019, 2, 7, 18, 20, 6, 729897)>,\n",
       " <Record id=16927 name='Copycat Thin Mint Cookies - Crazy Easy!' pic_url='https://img-global.cpcdn.com/001_recipes/6521807690006528/0x0/photo.jpg' url='https://cookpad.com/us/recipes/356098-copycat-thin-mint-cookies-crazy-easy' source='cookpad' source_meta=None date_added=datetime.datetime(2019, 2, 7, 18, 20, 8, 641813)>,\n",
       " <Record id=16970 name='Cold Poached Chicken with Ginger Scallion Oil' pic_url='missing' url='http://www.epicurious.com/recipes/food/views/cold-poached-chicken-with-ginger-scallion-oil-12409' source='epicurious' source_meta=None date_added=datetime.datetime(2019, 2, 7, 18, 20, 10, 379788)>,\n",
       " <Record id=16991 name='Demon Possession' pic_url='missing' url='http://www.food.com/recipe/demon-possession-259633' source='food' source_meta=None date_added=datetime.datetime(2019, 2, 7, 18, 20, 11, 263645)>,\n",
       " <Record id=16923 name='Crostini With Mascarpone, Berries and Honey' pic_url='missing' url='http://www.food.com/recipe/crostini-with-mascarpone-berries-and-honey-228502' source='food' source_meta=None date_added=datetime.datetime(2019, 2, 7, 18, 20, 8, 494580)>,\n",
       " <Record id=17072 name='Orange Cream Cake' pic_url='https://img-global.cpcdn.com/001_recipes/6155284176175104/0x0/photo.jpg' url='https://cookpad.com/us/recipes/343279-orange-cream-cake' source='cookpad' source_meta=None date_added=datetime.datetime(2019, 2, 7, 18, 20, 14, 610867)>,\n",
       " <Record id=16944 name='Citrus-Mint Julep' pic_url='missing' url='http://www.kraftrecipes.com/recipes/citrus-mint-julep-115446.aspx' source='kraftrecipes' source_meta=None date_added=datetime.datetime(2019, 2, 7, 18, 20, 9, 331964)>,\n",
       " <Record id=16952 name='Five Can Soup' pic_url='missing' url='http://www.food.com/recipe/five-can-soup-146248' source='food' source_meta=None date_added=datetime.datetime(2019, 2, 7, 18, 20, 9, 704896)>,\n",
       " <Record id=16957 name='Raspberry-Apricot Compote with Champagne and Lemon Verbena' pic_url='missing' url='http://www.epicurious.com/recipes/food/views/raspberry-apricot-compote-with-champagne-and-lemon-verbena-238531' source='epicurious' source_meta=None date_added=datetime.datetime(2019, 2, 7, 18, 20, 9, 845609)>,\n",
       " <Record id=16977 name='Cranberry-Chocolate Crumble' pic_url='missing' url='http://www.myrecipes.com/recipe/cranberry-chocolate-crumble' source='myrecipes' source_meta=None date_added=datetime.datetime(2019, 2, 7, 18, 20, 10, 681130)>,\n",
       " <Record id=17001 name='Delicious Sweet Tea' pic_url='http://img.sndimg.com/food/image/upload/w_512,h_512,c_fit,fl_progressive,q_95/v1/img/recipes/27/59/48/picJ9AoJP.jpg' url='http://www.food.com/recipe/delicious-sweet-tea-275948' source='food' source_meta=None date_added=datetime.datetime(2019, 2, 7, 18, 20, 11, 668448)>,\n",
       " <Record id=17027 name='Rum Balls' pic_url='missing' url='http://www.foodnetwork.com/recipes/rum-balls-recipe.html' source='foodnetwork' source_meta=None date_added=datetime.datetime(2019, 2, 7, 18, 20, 12, 745017)>,\n",
       " <Record id=17032 name='The Best Lemonade' pic_url='missing' url='http://www.foodnetwork.com/recipes/dave-lieberman/the-best-lemonade-recipe.html' source='foodnetwork' source_meta=None date_added=datetime.datetime(2019, 2, 7, 18, 20, 12, 936717)>,\n",
       " <Record id=16887 name='AMIEs Fruit (cherry) Ice Cubes' pic_url='https://img-global.cpcdn.com/001_recipes/6522221663092736/0x0/photo.jpg' url='https://cookpad.com/us/recipes/360226-amies-fruit-cherry-ice-cubes' source='cookpad' source_meta=None date_added=datetime.datetime(2019, 2, 7, 18, 20, 7, 45900)>,\n",
       " <Record id=16905 name='Bubble Gum Swizzle Recipe' pic_url='missing' url='http://cookeatshare.com/recipes/bubble-gum-swizzle-94501' source='cookeatshare' source_meta=None date_added=datetime.datetime(2019, 2, 7, 18, 20, 7, 775054)>,\n",
       " <Record id=16963 name='Blue Moon Cosmo Martini' pic_url='http://img.sndimg.com/food/image/upload/w_512,h_512,c_fit,fl_progressive,q_95/v1/img/recipes/23/70/00/pic7IRwa2.jpg' url='http://www.food.com/recipe/blue-moon-cosmo-martini-237000' source='food' source_meta=None date_added=datetime.datetime(2019, 2, 7, 18, 20, 10, 128411)>,\n",
       " <Record id=17014 name='Pineapple & Mango Rum' pic_url='missing' url='http://www.food.com/recipe/pineapple-mango-rum-374540' source='food' source_meta=None date_added=datetime.datetime(2019, 2, 7, 18, 20, 12, 151340)>,\n",
       " <Record id=17019 name='Simple Stewed Prunes' pic_url='http://img.sndimg.com/food/image/upload/w_512,h_512,c_fit,fl_progressive,q_95/v1/img/recipes/33/19/86/picazw1d0.jpg' url='http://www.food.com/recipe/simple-stewed-prunes-331986' source='food' source_meta=None date_added=datetime.datetime(2019, 2, 7, 18, 20, 12, 352498)>,\n",
       " <Record id=17055 name='Pasta Salad' pic_url='missing' url='http://www.food.com/recipe/pasta-salad-29872' source='food' source_meta=None date_added=datetime.datetime(2019, 2, 7, 18, 20, 13, 839098)>,\n",
       " <Record id=17063 name='wrapped date appetizers' pic_url='missing' url='http://www.food.com/recipe/wrapped-date-appetizers-80489' source='food' source_meta=None date_added=datetime.datetime(2019, 2, 7, 18, 20, 14, 236952)>,\n",
       " <Record id=17036 name='Butter-Glazed Asparagus' pic_url='http://del.h-cdn.co/assets/cm/15/10/54f693bbd94ec_-_xlarge_50189-2.jpg' url='http://www.delish.com/recipefinder/butter-glazed-asparagus-recipe-campbells-1109' source='delish' source_meta=None date_added=datetime.datetime(2019, 2, 7, 18, 20, 13, 59808)>,\n",
       " <Record id=17078 name='Spam Musubi' pic_url='https://img-global.cpcdn.com/001_recipes/5101405514760192/0x0/photo.jpg' url='https://cookpad.com/us/recipes/144059-spam-musubi' source='cookpad' source_meta=None date_added=datetime.datetime(2019, 2, 7, 18, 20, 14, 823706)>,\n",
       " <Record id=17149 name='Black Forest Cake' pic_url='http://assets.kraftfoods.com/recipe_images/opendeploy/57621_640x428.jpg' url='http://www.kraftrecipes.com/recipes/black-forest-cake-57621.aspx' source='kraftrecipes' source_meta=None date_added=datetime.datetime(2019, 2, 7, 18, 20, 17, 729932)>,\n",
       " <Record id=17164 name='Soft Dumplings with Mochiko and Tofu' pic_url='https://img-global.cpcdn.com/001_recipes/5553393968873472/0x0/photo.jpg' url='https://cookpad.com/us/recipes/168406-soft-dumplings-with-mochiko-and-tofu' source='cookpad' source_meta=None date_added=datetime.datetime(2019, 2, 7, 18, 20, 18, 344035)>,\n",
       " <Record id=17193 name='Summertime Melon Salad' pic_url='http://img.sndimg.com/food/image/upload/w_512,h_512,c_fit,fl_progressive,q_95/v1/img/recipes/20/87/84/pichQG3Te.jpg' url='http://www.food.com/recipe/summertime-melon-salad-208784' source='food' source_meta=None date_added=datetime.datetime(2019, 2, 7, 18, 20, 19, 552551)>,\n",
       " <Record id=17234 name='Slow-Cooker Thai Chicken Thighs' pic_url='http://assets.kraftfoods.com/recipe_images/opendeploy/133429_MXM_K61102V1_OR1_CR_640x428.jpg' url='http://www.kraftrecipes.com/recipes/slow-cooker-thai-chicken-thighs-133429.aspx' source='kraftrecipes' source_meta=None date_added=datetime.datetime(2019, 2, 7, 18, 20, 21, 225558)>,\n",
       " <Record id=17071 name='Lemon Rice' pic_url='http://tastykitchen.com/recipes/wp-content/uploads/sites/2/2013/03/photo-1-410x277.jpg' url='http://tastykitchen.com/recipes/sidedishes/lemon-rice-2/' source='tastykitchen' source_meta=None date_added=datetime.datetime(2019, 2, 7, 18, 20, 14, 570116)>,\n",
       " <Record id=17087 name='Mesquite Marinated Flank Steak' pic_url='http://img.sndimg.com/food/image/upload/w_512,h_512,c_fit,fl_progressive,q_95/v1/img/submissions/recipe/1802755037/dPGd7knTSN6dhl3Murqq_MesquiteMarinatedFlankSteakRecipe.jpg' url='http://www.food.com/recipe/mesquite-marinated-flank-steak-516881' source='food' source_meta=None date_added=datetime.datetime(2019, 2, 7, 18, 20, 15, 193891)>,\n",
       " <Record id=17194 name='Raspberry Yogurt Pie' pic_url='missing' url='https://cookpad.com/us/recipes/339803-raspberry-yogurt-pie' source='cookpad' source_meta=None date_added=datetime.datetime(2019, 2, 7, 18, 20, 19, 577180)>,\n",
       " <Record id=17224 name='Napa Spritz' pic_url='missing' url='http://www.foodnetwork.com/recipes/napa-spritz-recipe.html' source='foodnetwork' source_meta=None date_added=datetime.datetime(2019, 2, 7, 18, 20, 20, 817610)>,\n",
       " <Record id=17142 name='Chocolate Caramel Cookie Candy Bars' pic_url='http://img.sndimg.com/food/image/upload/w_512,h_512,c_fit,fl_progressive,q_95/v1/img/recipes/34/24/picxzqpMr.jpg' url='http://www.food.com/recipe/chocolate-caramel-cookie-candy-bars-3424' source='food' source_meta=None date_added=datetime.datetime(2019, 2, 7, 18, 20, 17, 453610)>,\n",
       " <Record id=17233 name='Pesto Chicken Packets with Wheat Penne Pasta' pic_url='http://tastykitchen.com/recipes/wp-content/uploads/sites/2/2009/07/final4.jpg' url='http://tastykitchen.com/recipes/main-courses/pesto-chicken-packets-with-wheat-penne-pasta/' source='tastykitchen' source_meta=None date_added=datetime.datetime(2019, 2, 7, 18, 20, 21, 219398)>,\n",
       " <Record id=17277 name='Pepper Jack-Turkey Cracker Sandwiches' pic_url='http://assets.kraftfoods.com/recipe_images/opendeploy/182175_640x428.jpg' url='http://www.kraftrecipes.com/recipes/pepper-jack-turkey-cracker-sandwiches-182175.aspx' source='kraftrecipes' source_meta=None date_added=datetime.datetime(2019, 2, 7, 18, 20, 22, 993955)>,\n",
       " <Record id=17202 name='Chocolate-Dipped Cheesecake-sicles' pic_url='missing' url='http://www.cookstr.com/recipes/chocolate-dipped-cheesecake-sicles' source='cookstr' source_meta=None date_added=datetime.datetime(2019, 2, 7, 18, 20, 19, 944914)>,\n",
       " <Record id=17235 name='Cayman Mudslide' pic_url='missing' url='http://www.food.com/recipe/cayman-mudslide-30392' source='food' source_meta=None date_added=datetime.datetime(2019, 2, 7, 18, 20, 21, 237459)>,\n",
       " <Record id=17284 name='Frosty Lemon Ice' pic_url='http://assets.kraftfoods.com/recipe_images/Frosty_Lemon_Ice_South_Beach.jpg' url='http://www.kraftrecipes.com/recipes/frosty-lemon-ice-66088.aspx' source='kraftrecipes' source_meta=None date_added=datetime.datetime(2019, 2, 7, 18, 20, 23, 213612)>,\n",
       " <Record id=17388 name='A.1. Roasted Potatoes' pic_url='http://assets.kraftfoods.com/recipe_images/opendeploy/138596_640x428.jpg' url='http://www.kraftrecipes.com/recipes/a1-roasted-potatoes-138596.aspx' source='kraftrecipes' source_meta=None date_added=datetime.datetime(2019, 2, 7, 18, 20, 27, 505429)>,\n",
       " <Record id=17425 name='Miso-Glazed Fish' pic_url='http://graphics8.nytimes.com/images/2013/09/14/science/18recipehealth/18recipehealth-superJumbo.jpg' url='http://cooking.nytimes.com/recipes/1015115' source='cooking' source_meta=None date_added=datetime.datetime(2019, 2, 7, 18, 20, 29, 48892)>,\n",
       " <Record id=17320 name='Chocolate Caramel Oatmeal Bars' pic_url='missing' url='http://tastykitchen.com/recipes/desserts/chocolate-caramel-oatmeal-bars/' source='tastykitchen' source_meta=None date_added=datetime.datetime(2019, 2, 7, 18, 20, 24, 737677)>,\n",
       " <Record id=17354 name='Graham Flour Substitute' pic_url='missing' url='http://www.food.com/recipe/graham-flour-substitute-377353' source='food' source_meta=None date_added=datetime.datetime(2019, 2, 7, 18, 20, 26, 121004)>,\n",
       " <Record id=17390 name='Pomegranate Sunrise' pic_url='http://img.sndimg.com/food/image/upload/w_512,h_512,c_fit,fl_progressive,q_95/v1/img/recipes/23/48/92/picYH8RMc.jpg' url='http://www.food.com/recipe/pomegranate-sunrise-234892' source='food' source_meta=None date_added=datetime.datetime(2019, 2, 7, 18, 20, 27, 533456)>,\n",
       " <Record id=17394 name='Potato/Green Bean/Mushroom Sausage Skillet' pic_url='http://img.sndimg.com/food/image/upload/w_512,h_512,c_fit,fl_progressive,q_95/v1/img/recipes/39/37/41/piczo9sjB.jpg' url='http://www.food.com/recipe/potato-green-bean-mushroom-sausage-skillet-393741' source='food' source_meta=None date_added=datetime.datetime(2019, 2, 7, 18, 20, 27, 736989)>,\n",
       " <Record id=17419 name=\"S'Mores Bark\" pic_url='missing' url='http://www.kraftrecipes.com/recipes/smores-bark-185602.aspx' source='kraftrecipes' source_meta=None date_added=datetime.datetime(2019, 2, 7, 18, 20, 28, 768206)>,\n",
       " <Record id=17490 name='Quick Snack Pizzas' pic_url='http://www.landolakes.com/assets/images/recipe/orig/9156C.jpg' url='http://www.landolakes.com/recipe/2799/quick-snack-pizzas' source='landolakes' source_meta=None date_added=datetime.datetime(2019, 2, 7, 18, 20, 31, 724565)>,\n",
       " <Record id=17336 name='Fruited Ice Cubes' pic_url='missing' url='http://www.kraftrecipes.com/recipes/fruited-ice-cubes-58073.aspx' source='kraftrecipes' source_meta=None date_added=datetime.datetime(2019, 2, 7, 18, 20, 25, 397701)>,\n",
       " <Record id=17477 name='Peanut Butter & Banana Wrap' pic_url='missing' url='http://www.food.com/recipe/peanut-butter-banana-wrap-262350' source='food' source_meta=None date_added=datetime.datetime(2019, 2, 7, 18, 20, 31, 139734)>,\n",
       " <Record id=17501 name='Fig & Goat Cheese Salad' pic_url='missing' url='http://www.kraftrecipes.com/recipes/fig-goat-cheese-salad-168871.aspx' source='kraftrecipes' source_meta=None date_added=datetime.datetime(2019, 2, 7, 18, 20, 32, 144968)>,\n",
       " <Record id=17356 name='Chocolate Gravy' pic_url='missing' url='http://www.food.com/recipe/chocolate-gravy-87966' source='food' source_meta=None date_added=datetime.datetime(2019, 2, 7, 18, 20, 26, 210496)>,\n",
       " <Record id=17430 name='Chocolate Sauce (Raw)' pic_url='missing' url='http://www.food.com/recipe/chocolate-sauce-raw-366445' source='food' source_meta=None date_added=datetime.datetime(2019, 2, 7, 18, 20, 29, 277137)>,\n",
       " <Record id=17527 name='Roast Chicken and Scallions' pic_url='missing' url='http://www.epicurious.com/recipes/food/views/roast-chicken-and-scallions-242331' source='epicurious' source_meta=None date_added=datetime.datetime(2019, 2, 7, 18, 20, 33, 182714)>,\n",
       " <Record id=17460 name='Fleur de Sel and Smoked Salt Caramels' pic_url='missing' url='http://www.epicurious.com/recipes/food/views/fleur-de-sel-and-smoked-salt-caramels-382471' source='epicurious' source_meta=None date_added=datetime.datetime(2019, 2, 7, 18, 20, 30, 470715)>,\n",
       " <Record id=17483 name='Simmered Amberjack and Daikon Radish -- Taught by a Chef' pic_url='https://img-global.cpcdn.com/001_recipes/4661449667379200/0x0/photo.jpg' url='https://cookpad.com/us/recipes/150362-simmered-amberjack-and-daikon-radish-taught-by-a-chef' source='cookpad' source_meta=None date_added=datetime.datetime(2019, 2, 7, 18, 20, 31, 443576)>,\n",
       " <Record id=17541 name='Finger Gelatin' pic_url='http://assets.kraftfoods.com/recipe_images/Finger_Gelatin.jpg' url='http://www.kraftrecipes.com/recipes/finger-gelatin-115037.aspx' source='kraftrecipes' source_meta=None date_added=datetime.datetime(2019, 2, 7, 18, 20, 33, 764659)>,\n",
       " <Record id=17563 name='123 Green Tea Ice Cream' pic_url='http://images.media-allrecipes.com/userphotos/256x256/487972.jpg' url='http://allrecipes.com/recipe/123-green-tea-ice-cream/' source='allrecipes' source_meta=None date_added=datetime.datetime(2019, 2, 7, 18, 20, 34, 688911)>,\n",
       " <Record id=17657 name='Cornflake Cookies' pic_url='http://img.sndimg.com/food/image/upload/w_512,h_512,c_fit,fl_progressive,q_95/v1/img/recipes/23/73/3/picXHHL4e.jpg' url='http://www.food.com/recipe/cornflake-cookies-23733' source='food' source_meta=None date_added=datetime.datetime(2019, 2, 7, 18, 20, 38, 497183)>,\n",
       " <Record id=17575 name=\"Little Tommy Tucker's Sweet & Savory Butters\" pic_url='missing' url='http://www.food.com/recipe/little-tommy-tuckers-sweet-savory-butters-394947' source='food' source_meta=None date_added=datetime.datetime(2019, 2, 7, 18, 20, 35, 190232)>,\n",
       " <Record id=17702 name='Berries and cherries syllabub recipe' pic_url='http://www.lovefood.com/images/content/body/ed_berriesandcherriessyllabub.jpg' url='http://www.lovefood.com/guide/recipes/15907/berries-and-cherries-syllabub-recipe' source='lovefood' source_meta=None date_added=datetime.datetime(2019, 2, 7, 18, 20, 40, 423049)>,\n",
       " <Record id=17708 name='Strawberry preserves' pic_url='https://img-global.cpcdn.com/001_recipes/5105603750920192/0x0/photo.jpg' url='https://cookpad.com/us/recipes/360846-strawberry-preserves' source='cookpad' source_meta=None date_added=datetime.datetime(2019, 2, 7, 18, 20, 40, 630599)>,\n",
       " <Record id=17564 name='Snowflake Rolls' pic_url='http://pictures.food.com/api/file/nPo6n1UpRLGUaKi25TpG-Snowflake-Rolls-Large.jpg/convert?loc=/pictures.food.com/recipes/ho/ld/in/g./22/42/62/RhVg1t1gSjiDCNu2sAfC_Snowflake-Rolls-Large.jpg&width=512&height=512&fit=max&flags=progressive&quality=95' url='http://www.food.com/recipe/snowflake-rolls-511907' source='food' source_meta=None date_added=datetime.datetime(2019, 2, 7, 18, 20, 34, 733973)>,\n",
       " <Record id=17574 name='Itty Bitty Nutella Cakes' pic_url='http://tastykitchen.com/recipes/wp-content/uploads/sites/2/2012/10/ittybitty-410x272.jpg' url='http://tastykitchen.com/recipes/desserts/itty-bitty-nutella-cakes/' source='tastykitchen' source_meta=None date_added=datetime.datetime(2019, 2, 7, 18, 20, 35, 169633)>,\n",
       " <Record id=17731 name='Easy Peanut Butter Graham Balls' pic_url='http://img.sndimg.com/food/image/upload/w_512,h_512,c_fit,fl_progressive,q_95/v1/img/recipes/77/02/9/pic0ElbmX.jpg' url='http://www.food.com/recipe/easy-peanut-butter-graham-balls-77029' source='food' source_meta=None date_added=datetime.datetime(2019, 2, 7, 18, 20, 41, 601726)>,\n",
       " <Record id=17742 name='Puertorican Arroz Con Pollo (Rice With Chicken)' pic_url='http://img.sndimg.com/food/image/upload/w_512,h_512,c_fit,fl_progressive,q_95/v1/img/recipes/22/03/71/picmojapF.jpg' url='http://www.food.com/recipe/puertorican-arroz-con-pollo-rice-with-chicken-220371' source='food' source_meta=None date_added=datetime.datetime(2019, 2, 7, 18, 20, 42, 45596)>,\n",
       " <Record id=17806 name='Ranch roasted potatoes' pic_url='https://img-global.cpcdn.com/001_recipes/6095018779475968/0x0/photo.jpg' url='https://cookpad.com/us/recipes/352557-ranch-roasted-potatoes' source='cookpad' source_meta=None date_added=datetime.datetime(2019, 2, 7, 18, 20, 44, 628430)>,\n",
       " <Record id=17810 name='El Presidente Recipe' pic_url='http://search.chow.com/thumbnail/1280/800/www.chowstatic.com/assets/2007/04/presidente_210x290.jpg' url='http://www.chowhound.com/recipes/el-presidente-10292' source='chowhound' source_meta=None date_added=datetime.datetime(2019, 2, 7, 18, 20, 44, 827057)>,\n",
       " <Record id=17887 name='Roasted Cauliflower' pic_url='http://img.sndimg.com/food/image/upload/w_512,h_512,c_fit,fl_progressive,q_95/v1/img/recipes/59/72/9/kR7kRa6CS2aDH3vv2fCb_Roasted%20Cauliflower.JPG' url='http://www.food.com/recipe/roasted-cauliflower-59729' source='food' source_meta=None date_added=datetime.datetime(2019, 2, 7, 18, 20, 47, 923163)>,\n",
       " <Record id=17807 name='Hickory BBQ Grilled Turkey Breast' pic_url='missing' url='http://www.foodnetwork.com/recipes/hickory-bbq-grilled-turkey-breast.html' source='foodnetwork' source_meta=None date_added=datetime.datetime(2019, 2, 7, 18, 20, 44, 646878)>,\n",
       " <Record id=17817 name='No-Cook Strawberry Jam - CERTO Crystals' pic_url='http://assets.kraftfoods.com/recipe_images/182072-182073.jpg' url='http://www.kraftrecipes.com/recipes/no-cook-strawberry-jam-certo-crystals-182072.aspx' source='kraftrecipes' source_meta=None date_added=datetime.datetime(2019, 2, 7, 18, 20, 45, 40478)>,\n",
       " <Record id=17852 name='How to Remove the Stalk from Lettuce and Keep it Fresh' pic_url='https://img-global.cpcdn.com/001_recipes/5541568674004992/0x0/photo.jpg' url='https://cookpad.com/us/recipes/150730-how-to-remove-the-stalk-from-lettuce-and-keep-it-fresh' source='cookpad' source_meta=None date_added=datetime.datetime(2019, 2, 7, 18, 20, 46, 564221)>,\n",
       " <Record id=17890 name='Caramel Topped Cranberry Streusel Squares' pic_url='missing' url='http://www.food.com/recipe/caramel-topped-cranberry-streusel-squares-440943' source='food' source_meta=None date_added=datetime.datetime(2019, 2, 7, 18, 20, 48, 81961)>,\n",
       " <Record id=17837 name='Fish with Asian Slaw Topping' pic_url='missing' url='http://www.kraftrecipes.com/recipes/fish-asian-slaw-topping-104424.aspx' source='kraftrecipes' source_meta=None date_added=datetime.datetime(2019, 2, 7, 18, 20, 45, 878075)>,\n",
       " <Record id=17847 name='Blackberry Sorbet' pic_url='missing' url='http://www.food.com/recipe/blackberry-sorbet-504256' source='food' source_meta=None date_added=datetime.datetime(2019, 2, 7, 18, 20, 46, 346918)>,\n",
       " <Record id=17888 name='Chifferi Pilaf' pic_url='missing' url='http://cooking.nytimes.com/recipes/7087' source='cooking' source_meta=None date_added=datetime.datetime(2019, 2, 7, 18, 20, 47, 985900)>,\n",
       " <Record id=17891 name='Soft Polenta with Thyme' pic_url='missing' url='http://www.foodandwine.com/recipes/soft-polenta-with-thyme' source='foodandwine' source_meta=None date_added=datetime.datetime(2019, 2, 7, 18, 20, 48, 90000)>,\n",
       " <Record id=17889 name='Ham Fried Rice' pic_url='http://tastykitchen.com/recipes/wp-content/uploads/sites/2/2013/09/074ps-410x271.jpg' url='http://tastykitchen.com/recipes/main-courses/ham-fried-rice-3/' source='tastykitchen' source_meta=None date_added=datetime.datetime(2019, 2, 7, 18, 20, 48, 30580)>]"
      ]
     },
     "execution_count": 48,
     "metadata": {},
     "output_type": "execute_result"
    }
   ],
   "source": [
    "x.result()[-100:]"
   ]
  },
  {
   "cell_type": "code",
   "execution_count": null,
   "metadata": {
    "collapsed": true
   },
   "outputs": [],
   "source": []
  }
 ],
 "metadata": {
  "kernelspec": {
   "display_name": "cClub",
   "language": "python",
   "name": "cclub"
  },
  "language_info": {
   "codemirror_mode": {
    "name": "ipython",
    "version": 3
   },
   "file_extension": ".py",
   "mimetype": "text/x-python",
   "name": "python",
   "nbconvert_exporter": "python",
   "pygments_lexer": "ipython3",
   "version": "3.7.1"
  }
 },
 "nbformat": 4,
 "nbformat_minor": 2
}
